{
 "cells": [
  {
   "cell_type": "markdown",
   "id": "6c693a0b-8009-4b4c-bec5-03a694642160",
   "metadata": {},
   "source": [
    "## Homework 2\n",
    "### Due: Thursday Feb. 13\n",
    "\n",
    "**Integer vs floating point number**\n",
    "\n",
    "Write a program to calculate and print the factorial of a\n",
    "number.  If you wish you can base your program on the\n",
    "user-defined function for factorial given in Section 2.6, but write your\n",
    "program so that it calculates the factorial using *integer*\n",
    "variables, not floating-point ones.  Use your program to calculate the\n",
    "factorial of 200.\n",
    "\n",
    "Now modify your program to use floating-point variables instead and again\n",
    "calculate the factorial of 200.  What do you find?  Explain.\n",
    "\n",
    "(20 points)"
   ]
  },
  {
   "cell_type": "code",
   "execution_count": 1,
   "id": "de7fed8f-325f-4eab-ab18-1e59d1d6b428",
   "metadata": {},
   "outputs": [
    {
     "name": "stdout",
     "output_type": "stream",
     "text": [
      "The factorial of 200 using the integer function: 788657867364790503552363213932185062295135977687173263294742533244359449963403342920304284011984623904177212138919638830257642790242637105061926624952829931113462857270763317237396988943922445621451664240254033291864131227428294853277524242407573903240321257405579568660226031904170324062351700858796178922222789623703897374720000000000000000000000000000000000000000000000000\n",
      "The factorial of 200 using the floating-point function: inf\n"
     ]
    }
   ],
   "source": [
    "# code \n",
    "\n",
    "n = 200\n",
    "\n",
    "def factorial_int(n):\n",
    "    solution = 1\n",
    "    for i in range(1, n + 1):\n",
    "        solution *= i\n",
    "    return solution\n",
    "\n",
    "n = 200\n",
    "fact_integ = factorial_int(n)\n",
    "\n",
    "\n",
    "def factorial_float(n):\n",
    "    solution2 = 1.0\n",
    "    for i in range(1, n + 1):\n",
    "        solution2 *= i\n",
    "    return solution2\n",
    "\n",
    "n = 200\n",
    "fact_floati = factorial_float(n)\n",
    "\n",
    "\n",
    "print(f\"The factorial of {n} using the integer function: {fact_integ}\")\n",
    "print(f\"The factorial of {n} using the floating-point function: {fact_floati}\")\n",
    "\n",
    "\n",
    "# Explanation: The calculation of 200 factorial using the integer funcion returns a value. However the calculation of 200\n",
    "#    factorial using the float function returns infinity because python cannot handle approximating tons of numbers with\n",
    "#    decimals leading to rounding and precision errors.\n"
   ]
  },
  {
   "cell_type": "markdown",
   "id": "1e9a5155-daa8-4809-8e6a-e5d4ab7c270d",
   "metadata": {},
   "source": [
    "**A Simple Derivative**\n",
    "\n",
    "Suppose we have a function $f(x)$ and we want to\n",
    "calculate its derivative at a point $x$.  We can do that with pencil and\n",
    "paper if we know the mathematical form of the function, or we can do it on\n",
    "the computer by making use of the definition of the derivative:\n",
    "\n",
    "<p style=\"text-align:center;\">\n",
    "${d f\\over d x} = \\lim_{\\delta\\to0} {f(x+\\delta)-f(x)\\over\\delta}.$\n",
    "</p>\n",
    "\n",
    "On the computer we can't actually take the limit as $\\delta$ goes to\n",
    "zero, but we can get a reasonable approximation just by making $\\delta$\n",
    "small.\n",
    "- Write a program that defines a function *f(x)* returning the\n",
    "  value $x(x-1)$, then calculates the derivative of the function at the\n",
    "  point $x=1$ using the formula above with $\\delta=10^{-2}$.  Calculate\n",
    "  the true value of the same derivative analytically and compare with the\n",
    "  answer your program gives.  The two will not agree perfectly.  Why not?\n",
    "- Repeat the calculation for $\\delta=10^{-4}$, $10^{-6}$, $10^{-8}$,\n",
    "  $10^{-10}$, $10^{-12}$, and $10^{-14}$.  You should see that the accuracy\n",
    "  of the calculation initially gets better as $\\delta$ gets smaller, but\n",
    "  then gets worse again.  Why is this?\n",
    "\n",
    "(20 points)"
   ]
  },
  {
   "cell_type": "code",
   "execution_count": 2,
   "id": "84528686-9eb8-4446-81db-1a6dc4a26a30",
   "metadata": {},
   "outputs": [
    {
     "name": "stdout",
     "output_type": "stream",
     "text": [
      "Delta_First: 1.010000000000001\n",
      "Delta: 0.0001, Approximate Derivative: 1.0000999999998899\n",
      "Delta: 1e-06, Approximate Derivative: 1.0000009999177333\n",
      "Delta: 1e-08, Approximate Derivative: 1.0000000039225287\n",
      "Delta: 1e-10, Approximate Derivative: 1.000000082840371\n",
      "Delta: 1e-12, Approximate Derivative: 1.0000889005833413\n",
      "Delta: 1e-14, Approximate Derivative: 0.9992007221626509\n",
      "0.9992007221626509\n",
      "Delta: 1e-14, Approximate Derivative: <function approx_derivative at 0x000001949736E7A0>\n"
     ]
    }
   ],
   "source": [
    "# code\n",
    "\n",
    "def f(x):\n",
    "    return x * (x - 1)\n",
    "\n",
    "def approx_derivative(x, delta):\n",
    "    return (f(x + delta) - f(x)) / (delta)\n",
    "\n",
    "x = 1\n",
    "delta_first = 10**(-2)\n",
    "\n",
    "print(f\"Delta_First: {approx_derivative(x, delta_first)}\")\n",
    "\n",
    "\n",
    "delta_values = [10**-4, 10**-6, 10**-8, 10**-10, 10**-12, 10**-14]\n",
    "\n",
    "\n",
    "for delta in delta_values:\n",
    "    approxima_der = approx_derivative(x, delta)\n",
    "    print(f\"Delta: {delta}, Approximate Derivative: {approxima_der}\")\n",
    "  \n",
    "    \n",
    "print(approxima_der)\n",
    "print(f\"Delta: {delta:.0e}, Approximate Derivative: {approx_derivative}\")\n",
    "\n",
    "\n",
    "# Explanation: \n",
    "#  The two solutions do not agree perfectly because the program is approximating the difference between two points using small \n",
    "#     increments. The increments lead to calculation errors. \n",
    "#  The accuracy gets better then gets worse again because of rounding.\n"
   ]
  },
  {
   "cell_type": "markdown",
   "id": "ebb2e1bb-74fa-4897-9d4d-8ba74bfe1ad2",
   "metadata": {},
   "source": [
    "### Simpson's Rule\n",
    "\n",
    "- Write a program to calculate an approximate value for the integral $\\int_{0}^{2} ( x^4 - 2x + 1)dx$ from Example 5.1 in the book, but using Simpson's rule with 10 slices instead of the trapezoid rule. You may be able to modify your code from the trapezoid rule to complete this task. Compare your result to the known correct value of 4.4. What is the fractional error on your calculation?\n",
    "\n",
    "- Copy your code and modify it to use one hundred slices, then one thousand. Note the improvement in the result and compare to the results from the trapezoid rule.\n",
    "\n",
    "(30 points)"
   ]
  },
  {
   "cell_type": "code",
   "execution_count": 3,
   "id": "d8370bf3-7d95-442e-8d4d-b3636a60e6e7",
   "metadata": {},
   "outputs": [
    {
     "name": "stdout",
     "output_type": "stream",
     "text": [
      "n = 10: Simpson's Solution = 4.400426666666667, Fractional error = 9.696969696972666e-05\n",
      "n = 100: Simpson's Solution = 4.400000042666668, Fractional error = 9.696969893724372e-09\n",
      "n = 1000: Simpson's Solution = 4.400000000004267, Fractional error = 9.697293473271367e-13\n"
     ]
    }
   ],
   "source": [
    "# code\n",
    "\n",
    "import numpy as np\n",
    "\n",
    "a = 0\n",
    "b = 2\n",
    "exact_value = 4.4\n",
    "\n",
    "def s(x):\n",
    "    return x**4 - 2*x + 1\n",
    "\n",
    "\n",
    "def simp_rule(a, b, n):\n",
    "    if n % 2 == 1: \n",
    "        n += 1\n",
    "    \n",
    "    h = (b - a) / n\n",
    "    x = np.linspace(a, b, n+1)\n",
    "    func = s\n",
    "    \n",
    "    equation = (h/3) * (func(a) + func(b))\n",
    "    \n",
    "    odd_sum = 0\n",
    "    even_sum = 0\n",
    "    \n",
    "    for k in range(1, n, 2):  \n",
    "        odd_sum +=  func(a + k*h)\n",
    "                           \n",
    "    for k in range(2, n, 2):  \n",
    "        even_sum += func(a + k*h)\n",
    "        \n",
    "        \n",
    "    equation = (h/3) * (func(a) + func(b) + 4*odd_sum + 2*even_sum) \n",
    "    \n",
    "    return equation\n",
    "\n",
    "\n",
    "n_values = [10, 100, 1000]\n",
    "results = []\n",
    "\n",
    "for n in n_values:\n",
    "    equation_value = simp_rule(a, b, n)\n",
    "    fractional_error = abs((equation_value - exact_value) / exact_value)\n",
    "    results.append((n, equation_value, fractional_error))\n",
    "\n",
    "\n",
    "for n, equation_value, fractional_error in results:\n",
    "    print(f\"n = {n}: Simpson's Solution = {equation_value}, Fractional error = {fractional_error}\")\n"
   ]
  },
  {
   "cell_type": "markdown",
   "id": "4c080cd1-540e-4ab2-a0d6-3372d1899b4f",
   "metadata": {},
   "source": [
    "### An Integral With No Analytic Solution\n",
    "\n",
    "Consider the integral\n",
    "\n",
    "$$ E(x) = \\int_{0}^{x} \\exp{-t^2} dt$$\n",
    "\n",
    "- Write a program to calculate $E(x)$ for values of x from 0 to 3 in steps of 0.1. Choose for yourself what method you will use for performing the integral and a suitable number of slices.\n",
    "\n",
    "- When you are convinced your program is working, extend it further to make a graph of E(x) as a function of x.\n",
    "\n",
    "(30 points)"
   ]
  },
  {
   "cell_type": "code",
   "execution_count": 4,
   "id": "27aaf5cb-8c02-4c8a-affe-d7d67c969b59",
   "metadata": {},
   "outputs": [
    {
     "data": {
      "image/png": "[encoded data removed]",
      "text/plain": [
       "<Figure size 640x480 with 1 Axes>"
      ]
     },
     "metadata": {},
     "output_type": "display_data"
    }
   ],
   "source": [
    "# code\n",
    "\n",
    "import numpy as np\n",
    "import matplotlib.pyplot as plt\n",
    "\n",
    "def integrand(t):\n",
    "    return np.exp(-t**2) \n",
    "\n",
    "def trapez_integral(a, b, n):\n",
    "    \n",
    "    x_nums = np.linspace(a, b, n+1)\n",
    "    y_nums = np.array([integrand(x) for x in x_nums])\n",
    "    \n",
    "    \n",
    "    h = (b - a) / n\n",
    "    ana_integ = (h/2) * (y_nums[0] + y_nums[-1] + 2 * np.sum(y_nums[1:-1]))\n",
    "    return ana_integ\n",
    "\n",
    "\n",
    "x_values = np.arange(0.1, 3.1, 0.1) \n",
    "E_values = []\n",
    "\n",
    "\n",
    "for x in x_values:\n",
    "    \n",
    "    solution_ana = trapez_integral(0.0001, x, 1000)\n",
    "    E_values.append(solution_ana)\n",
    "\n",
    "\n",
    "plt.plot(x_values, E_values, label=\"E(x)\")\n",
    "plt.xlabel(\"x\")\n",
    "plt.ylabel(\"E(x)\")\n",
    "plt.title(\"Exponential Integral E(x)\")\n",
    "plt.legend()\n",
    "\n",
    "\n",
    "plt.show()"
   ]
  }
 ],
 "metadata": {
  "kernelspec": {
   "display_name": "Python 3 (ipykernel)",
   "language": "python",
   "name": "python3"
  },
  "language_info": {
   "codemirror_mode": {
    "name": "ipython",
    "version": 3
   },
   "file_extension": ".py",
   "mimetype": "text/x-python",
   "name": "python",
   "nbconvert_exporter": "python",
   "pygments_lexer": "ipython3",
   "version": "3.11.5"
  }
 },
 "nbformat": 4,
 "nbformat_minor": 5
}
